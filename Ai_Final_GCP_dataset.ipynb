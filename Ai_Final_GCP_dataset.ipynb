{
  "nbformat": 4,
  "nbformat_minor": 0,
  "metadata": {
    "colab": {
      "provenance": [],
      "authorship_tag": "ABX9TyMr3cyCJ7SJCbj134ea0m9A",
      "include_colab_link": true
    },
    "kernelspec": {
      "name": "python3",
      "display_name": "Python 3"
    },
    "language_info": {
      "name": "python"
    }
  },
  "cells": [
    {
      "cell_type": "markdown",
      "metadata": {
        "id": "view-in-github",
        "colab_type": "text"
      },
      "source": [
        "<a href=\"https://colab.research.google.com/github/quinnpramsay/2710-Hashing-Final-Project/blob/main/Ai_Final_GCP_dataset.ipynb\" target=\"_parent\"><img src=\"https://colab.research.google.com/assets/colab-badge.svg\" alt=\"Open In Colab\"/></a>"
      ]
    },
    {
      "cell_type": "code",
      "source": [
        "# Import libraries\n",
        "import numpy as np\n",
        "import os\n",
        "import pandas as pd\n",
        "import matplotlib.pyplot as plt\n",
        "import matplotlib.patches as patches\n",
        "import matplotlib.path as path\n",
        "\n",
        "# Make pandas dataframes prettier\n",
        "from IPython.display import display, HTML\n",
        "\n",
        "# Access data using Google BigQuery.\n",
        "from google.colab import auth\n",
        "from google.cloud import bigquery"
      ],
      "metadata": {
        "id": "fNqk0ugaVS2r"
      },
      "execution_count": 19,
      "outputs": []
    },
    {
      "cell_type": "code",
      "source": [
        "auth.authenticate_user()"
      ],
      "metadata": {
        "id": "RCWU1_oNVzXP"
      },
      "execution_count": 20,
      "outputs": []
    },
    {
      "cell_type": "code",
      "source": [
        "project_id='icu-readmissions-ai-project'\n",
        "client = bigquery.Client(project=project_id)\n",
        "\n",
        "# MIMIC-IV v3.1 dataset information\n",
        "MIMIC_PROJECT = \"physionet-data\"\n",
        "MIMIC_DATASET = \"mimiciv_3_1_hosp\""
      ],
      "metadata": {
        "id": "AqoY_Bb8V-Ig"
      },
      "execution_count": 43,
      "outputs": []
    },
    {
      "cell_type": "code",
      "source": [
        "print(f\"\\nConnected to project: {project_id}\")\n",
        "print(f\"Querying MIMIC-IV v3.1 dataset: {MIMIC_PROJECT}.{MIMIC_DATASET}\")"
      ],
      "metadata": {
        "colab": {
          "base_uri": "https://localhost:8080/"
        },
        "id": "F7lUnM0_WZF6",
        "outputId": "8a3758d4-ffb7-4672-d5a9-84610c20c622"
      },
      "execution_count": 44,
      "outputs": [
        {
          "output_type": "stream",
          "name": "stdout",
          "text": [
            "\n",
            "Connected to project: icu-readmissions-ai-project\n",
            "Querying MIMIC-IV v3.1 dataset: physionet-data.mimiciv_3_1_hosp\n"
          ]
        }
      ]
    },
    {
      "cell_type": "code",
      "source": [
        "# ============================================================================\n",
        "def list_tables():\n",
        "    \"\"\"List all tables in the MIMIC-IV v3.1 dataset\"\"\"\n",
        "    dataset_ref = f\"{MIMIC_PROJECT}.{MIMIC_DATASET}\"\n",
        "    tables = client.list_tables(dataset_ref)\n",
        "\n",
        "    print(f\"\\n{'='*60}\")\n",
        "    print(\"Available tables in MIMIC-IV v3.1:\")\n",
        "    print(f\"{'='*60}\")\n",
        "\n",
        "    table_list = []\n",
        "    for table in tables:\n",
        "        table_list.append(table.table_id)\n",
        "        print(f\"  - {table.table_id}\")\n",
        "\n",
        "    return table_list\n",
        "\n",
        "tables = list_tables()"
      ],
      "metadata": {
        "colab": {
          "base_uri": "https://localhost:8080/"
        },
        "id": "N2VR3NxzWmWX",
        "outputId": "6b3e2355-69c4-4604-85cf-f10a30c71582"
      },
      "execution_count": 45,
      "outputs": [
        {
          "output_type": "stream",
          "name": "stdout",
          "text": [
            "\n",
            "============================================================\n",
            "Available tables in MIMIC-IV v3.1:\n",
            "============================================================\n",
            "  - admissions\n",
            "  - d_hcpcs\n",
            "  - d_icd_diagnoses\n",
            "  - d_icd_procedures\n",
            "  - d_labitems\n",
            "  - diagnoses_icd\n",
            "  - drgcodes\n",
            "  - emar\n",
            "  - emar_detail\n",
            "  - hcpcsevents\n",
            "  - labevents\n",
            "  - microbiologyevents\n",
            "  - omr\n",
            "  - patients\n",
            "  - pharmacy\n",
            "  - poe\n",
            "  - poe_detail\n",
            "  - prescriptions\n",
            "  - procedures_icd\n",
            "  - provider\n",
            "  - services\n",
            "  - transfers\n"
          ]
        }
      ]
    }
  ]
}